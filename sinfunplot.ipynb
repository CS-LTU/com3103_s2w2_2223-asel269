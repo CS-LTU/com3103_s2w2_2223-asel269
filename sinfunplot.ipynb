{
 "cells": [
  {
   "cell_type": "code",
   "execution_count": null,
   "metadata": {},
   "outputs": [],
   "source": [
    "import numpy as np\n",
    "from matplotlib import pyplot as plt\n",
    "\n",
    "x= np.arange(-np.pi,np.pi,0.1)\n",
    "ys=200+np.sin(x)\n",
    "\n",
    "plt.plot(x,ys,'-')\n",
    "plt.title(\"sample visul\")\n",
    "plt.show()"
   ]
  }
 ],
 "metadata": {
  "language_info": {
   "name": "python"
  },
  "orig_nbformat": 4
 },
 "nbformat": 4,
 "nbformat_minor": 2
}
